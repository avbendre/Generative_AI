{
  "nbformat": 4,
  "nbformat_minor": 0,
  "metadata": {
    "colab": {
      "provenance": [],
      "authorship_tag": "ABX9TyOUdugsvIiMiluEhNRstBaR",
      "include_colab_link": true
    },
    "kernelspec": {
      "name": "python3",
      "display_name": "Python 3"
    },
    "language_info": {
      "name": "python"
    }
  },
  "cells": [
    {
      "cell_type": "markdown",
      "metadata": {
        "id": "view-in-github",
        "colab_type": "text"
      },
      "source": [
        "<a href=\"https://colab.research.google.com/github/avbendre/Generative_AI/blob/main/TitleGenerator.ipynb\" target=\"_parent\"><img src=\"https://colab.research.google.com/assets/colab-badge.svg\" alt=\"Open In Colab\"/></a>"
      ]
    },
    {
      "cell_type": "code",
      "execution_count": null,
      "metadata": {
        "id": "jGHhO71Wz0F3"
      },
      "outputs": [],
      "source": [
        "!pip install -q gradio openai pypdf tiktoken langchain PyPDF2 chromadb -q\n"
      ]
    },
    {
      "cell_type": "code",
      "source": [
        "import os\n",
        "os.environ[\"OPENAI_API_KEY\"] = \"ENTER_YOUR_KEY_HERE\""
      ],
      "metadata": {
        "id": "5drOFh9l-8Gz"
      },
      "execution_count": null,
      "outputs": []
    },
    {
      "cell_type": "code",
      "source": [
        "import PyPDF2\n",
        "import gradio as gr\n",
        "import openai\n",
        "from io import BytesIO\n",
        "from langchain import OpenAI, PromptTemplate\n",
        "from langchain.chains.summarize import load_summarize_chain\n",
        "from langchain.document_loaders import PyPDFLoader"
      ],
      "metadata": {
        "id": "Qnt8H7tVMShJ"
      },
      "execution_count": null,
      "outputs": []
    },
    {
      "cell_type": "code",
      "source": [
        "def extract_text_from_pdf(input_file):\n",
        "    pdf_file = open(input_file.name, \"rb\")\n",
        "    pdf_reader = PyPDF2.PdfReader(pdf_file)\n",
        "    num_pages = len(pdf_reader.pages)\n",
        "\n",
        "    text = \"\"\n",
        "    for page_number in range(num_pages):\n",
        "        page = pdf_reader.pages[page_number] \n",
        "        text += page.extract_text()\n",
        "\n",
        "    pdf_file.close()\n",
        "    prompt=(\"What is title for the following: \" + text)\n",
        "    model=\"gpt-3.5-turbo\"\n",
        "    messages = [{\"role\": \"user\", \"content\": prompt}]\n",
        "    response = openai.ChatCompletion.create(\n",
        "        model=model,\n",
        "        messages=messages,\n",
        "        temperature=0, \n",
        "    )\n",
        "    return response.choices[0].message[\"content\"]\n",
        "\n",
        "iface = gr.Interface(fn=extract_text_from_pdf, inputs=\"file\", outputs=\"text\")\n",
        "iface.launch(share=True,debug=True)\n"
      ],
      "metadata": {
        "id": "A-IDG9qZ_B2O"
      },
      "execution_count": null,
      "outputs": []
    }
  ]
}