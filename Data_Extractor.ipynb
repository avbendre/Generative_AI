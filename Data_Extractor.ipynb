{
  "nbformat": 4,
  "nbformat_minor": 0,
  "metadata": {
    "colab": {
      "provenance": [],
      "authorship_tag": "ABX9TyMJIBzotpY+CZlEnzZeBEbA",
      "include_colab_link": true
    },
    "kernelspec": {
      "name": "python3",
      "display_name": "Python 3"
    },
    "language_info": {
      "name": "python"
    }
  },
  "cells": [
    {
      "cell_type": "markdown",
      "metadata": {
        "id": "view-in-github",
        "colab_type": "text"
      },
      "source": [
        "<a href=\"https://colab.research.google.com/github/avbendre/Generative_AI/blob/main/Data_Extractor.ipynb\" target=\"_parent\"><img src=\"https://colab.research.google.com/assets/colab-badge.svg\" alt=\"Open In Colab\"/></a>"
      ]
    },
    {
      "cell_type": "code",
      "source": [
        "!pip install -q gradio openai pypdf tiktoken langchain PyPDF2 pandas chromadb -q"
      ],
      "metadata": {
        "id": "HfeEHJFq744M"
      },
      "execution_count": null,
      "outputs": []
    },
    {
      "cell_type": "code",
      "source": [
        "import os\n",
        "os.environ[\"OPENAI_API_KEY\"] = \"[HIDDEN_KEY]\""
      ],
      "metadata": {
        "id": "aaVBekjZ8mCL"
      },
      "execution_count": null,
      "outputs": []
    },
    {
      "cell_type": "code",
      "source": [
        "import PyPDF2\n",
        "import gradio as gr\n",
        "import openai\n",
        "from io import BytesIO\n",
        "from langchain import OpenAI, PromptTemplate\n",
        "import langchain\n",
        "from langchain.chat_models import ChatOpenAI\n",
        "from langchain.output_parsers import ResponseSchema\n",
        "from langchain.output_parsers import StructuredOutputParser\n",
        "import requests\n",
        "from bs4 import BeautifulSoup\n",
        "import pandas as pd\n",
        "from langchain.prompts import ChatPromptTemplate"
      ],
      "metadata": {
        "id": "sd--STPn8qj1"
      },
      "execution_count": null,
      "outputs": []
    },
    {
      "cell_type": "code",
      "source": [
        "\n",
        "\n",
        "#We use here the response schemas as we need to get the output in structured format\n",
        "\n",
        "Name_schema = ResponseSchema(name=\"Name\",\n",
        "                             description=\"What is the name of the person under Obituary\")\n",
        "Birthday_schema = ResponseSchema(name=\"Birthday\",\n",
        "                                      description=\"What is the birthday of the Person\")\n",
        "Husband_name_schema = ResponseSchema(name=\"Husband_Name\",\n",
        "                                    description=\"What is the name of the husband\")\n",
        "Children_schema=ResponseSchema(name=\"Children\",\n",
        "                                    description=\"What is the number of children\")\n",
        "Marraige_date_schema=ResponseSchema(name=\"Marriage_Date\",\n",
        "                                    description=\"What is the Date of marriage\")\n",
        "grandchildren_schema=ResponseSchema(name=\"grandchildren\",\n",
        "                                    description=\"What is the number of grandchildren in number\")\n",
        "greatgrandchildren_schema=ResponseSchema(name=\"greatgrandchildren\",\n",
        "                                    description=\"What is the number of greatgrandchildren in number\")\n",
        "\n",
        "\n",
        "response_schemas = [Name_schema, \n",
        "                    Birthday_schema,\n",
        "                    Husband_name_schema,Children_schema,Marraige_date_schema,grandchildren_schema\n",
        "                    ,greatgrandchildren_schema]\n",
        "\n",
        "\n",
        "#We take the template to be such that we get the output in form of json\n",
        "review_template_2 = \"\"\"\\\n",
        "For the following text, extract the following information:\n",
        "\n",
        "Name: What is the name of the person under Obituary?\\\n",
        "\n",
        "Husband_Name: What is the name of the husband?\\\n",
        "\n",
        "Children: What is the number of children?\\\n",
        "\n",
        "Marraige date: When is the marriage date?\\\n",
        "\n",
        "grandchildren: What is the number of grandchildren in number?\\\n",
        "\n",
        "greatgrandchildren: What is the number of greatgrandchildren in number?\\\n",
        "\n",
        "Format the output as JSON with the following keys:\n",
        "Name\n",
        "Husband_Name\n",
        "Children\n",
        "Marraige date\n",
        "grandchildren\n",
        "greatgrandchildren.\n",
        "\n",
        "and output them as a comma separated Python list.\n",
        "\n",
        "text: {text}\n",
        "\n",
        "{format_instructions}\n",
        "\"\"\"\n",
        "#Using Beautiful soup Function to parse the text content from the website\n",
        "def extract_text(url):\n",
        "    response = requests.get(url)\n",
        "    html_content = response.text\n",
        "\n",
        "    soup = BeautifulSoup(html_content, 'html.parser')\n",
        "    text = soup.get_text()\n",
        "\n",
        "    return text\n",
        "\n",
        "\n",
        "def main():\n",
        "    website_url = input(\"Enter the website URL: \")\n",
        "    extracted_text = extract_text(website_url)\n",
        "    output_parser = StructuredOutputParser.from_response_schemas(response_schemas)\n",
        "    format_instructions = output_parser.get_format_instructions()\n",
        "    prompt = ChatPromptTemplate.from_template(template=review_template_2)\n",
        "\n",
        "    messages = prompt.format_messages(text=extracted_text, \n",
        "                                format_instructions=format_instructions)\n",
        "   \n",
        "    chat = ChatOpenAI(temperature=0.0)\n",
        "    response = chat(messages)\n",
        "    #Json is the output but it is in string format, so we need to use parser to convert it to desired dict\n",
        "    output_dict = output_parser.parse(response.content)\n",
        "    #Converting the dict into an dataframe\n",
        "    df = pd.DataFrame([output_dict])\n",
        "    print(df.head())\n",
        "\n",
        "\n",
        "if __name__ == \"__main__\":\n",
        "    main()\n"
      ],
      "metadata": {
        "colab": {
          "base_uri": "https://localhost:8080/"
        },
        "id": "taJ13L-TQi1Q",
        "outputId": "a1d18451-d4f7-4e2e-ce56-26a6ea9646e9"
      },
      "execution_count": null,
      "outputs": [
        {
          "output_type": "stream",
          "name": "stdout",
          "text": [
            "Enter the website URL: https://www.chappellfuneralhome.com/obituary/Patrice-McCarty#obituary\n",
            "                              Name        Birthday  Husband_Name Children  \\\n",
            "0  Patrice Ann (Williams)  McCarty  April 21, 1960  Rick McCarty        2   \n",
            "\n",
            "       Marriage_Date grandchildren greatgrandchildren  \n",
            "0  December 21, 1994             4                  1  \n"
          ]
        }
      ]
    },
    {
      "cell_type": "code",
      "source": [],
      "metadata": {
        "id": "SyNHQRmTZIcZ"
      },
      "execution_count": null,
      "outputs": []
    }
  ]
}